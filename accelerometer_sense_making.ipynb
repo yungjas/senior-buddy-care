{
 "cells": [
  {
   "cell_type": "code",
   "execution_count": 1,
   "metadata": {},
   "outputs": [],
   "source": [
    "# !pip install pyserial"
   ]
  },
  {
   "cell_type": "code",
   "execution_count": 2,
   "metadata": {},
   "outputs": [],
   "source": [
    "import serial\n",
    "import matplotlib.pyplot as plt\n",
    "import serial.tools.list_ports as list_ports\n",
    "from IPython.display import clear_output\n",
    "import time\n",
    "import math\n",
    "\n",
    "import pandas as pd\n",
    "\n",
    "# import plotext as plt\n",
    "from ast import literal_eval as make_tuple\n",
    "\n",
    "PID_MICROBIT = 516\n",
    "VID_MICROBIT = 3368\n",
    "TIMEOUT = 0.1"
   ]
  },
  {
   "cell_type": "code",
   "execution_count": 3,
   "metadata": {},
   "outputs": [],
   "source": [
    "def find_comport(pid, vid, baud):\n",
    "    ''' return a serial port '''\n",
    "    ser_port = serial.Serial(timeout=TIMEOUT)\n",
    "    ser_port.baudrate = baud\n",
    "    ports = list(list_ports.comports())\n",
    "    print('scanning ports')\n",
    "    for p in ports:\n",
    "        print('port: {}'.format(p))\n",
    "        try:\n",
    "            print('pid: {} vid: {}'.format(p.pid, p.vid))\n",
    "        except AttributeError:\n",
    "            continue\n",
    "        if (p.pid == pid) and (p.vid == vid):\n",
    "            print('found target device pid: {} vid: {} port: {}'.format(\n",
    "                p.pid, p.vid, p.device))\n",
    "            ser_port.port = str(p.device)\n",
    "            return ser_port\n",
    "    return None"
   ]
  },
  {
   "cell_type": "code",
   "execution_count": 4,
   "metadata": {},
   "outputs": [],
   "source": [
    "def matplot():\n",
    "    clear_output(wait=True)\n",
    "    fig = plt.figure(figsize=[20,15])\n",
    "    ax = fig.add_subplot(111)\n",
    "#     line1, = plt.plot(x, label=\"x\")\n",
    "#     line1, = plt.plot(y, label=\"y\")\n",
    "#     line1, = plt.plot(z, label=\"z\")\n",
    "#     line1, = plt.plot(a, label=\"acceleration\")\n",
    "#     line1, = plt.plot(ma20, label=\"ma20\")\n",
    "#     line1, = plt.plot(ma100, label=\"ma100\")\n",
    "#     line1, = plt.plot(ma250, label=\"ma250\")\n",
    "    line1, = plt.plot(diffma, label=\"difference absolute\")\n",
    "    line1, = plt.plot(avgA, label=\"average 20\")\n",
    "    line1, = plt.plot(avgA300, label=\"average 300\")\n",
    "#     line1, = plt.plot(ma500, label=\"ma500\")\n",
    "    ax.legend()\n",
    "    plt.show(block=False)"
   ]
  },
  {
   "cell_type": "code",
   "execution_count": 5,
   "metadata": {},
   "outputs": [],
   "source": [
    "def clear_graph():\n",
    "    x.clear()\n",
    "    y.clear()\n",
    "    z.clear()\n",
    "    a.clear()\n",
    "    ma20.clear()\n",
    "    ma250.clear()\n",
    "    diffma.clear()\n",
    "    avgA.clear()\n",
    "    avgA300.clear()\n",
    "    reset_arr()\n",
    "    \n",
    "def reset_arr():\n",
    "    ma20 = [1000 for i in range(19)]\n",
    "    ma250 = [1000 for i in range(249)]\n",
    "    diffma = [1000 for i in range(249)]\n",
    "    avgA = [1000 for i in range(249)]\n",
    "    avgA300 = [0 for i in range(299)]"
   ]
  },
  {
   "cell_type": "code",
   "execution_count": 6,
   "metadata": {},
   "outputs": [],
   "source": [
    "def main():\n",
    "    print('looking for microbit')\n",
    "    ser_micro = find_comport(PID_MICROBIT, VID_MICROBIT, 115200)\n",
    "    if not ser_micro:\n",
    "        print('microbit not found')\n",
    "        return\n",
    "    print('opening and monitoring microbit port')\n",
    "    ser_micro.open()\n",
    "    count = 0\n",
    "    while True:\n",
    "        line = ser_micro.readline().decode('utf-8')\n",
    "#         clear_output(wait=True)\n",
    "#         print(line)\n",
    "#         continue\n",
    "        if \"C\" in line:\n",
    "            break\n",
    "        if \"B\" in line:\n",
    "            clear_graph()\n",
    "        line = line.split(\" A\")[0]\n",
    "        try:\n",
    "            acc = make_tuple(line)\n",
    "            ax = int(acc[0])\n",
    "            ay = int(acc[1])\n",
    "            az = int(acc[2])\n",
    "            x.append(ax)\n",
    "            y.append(ay)\n",
    "            z.append(az)\n",
    "            total_acc = math.sqrt(ax**2 + ay**2 + az**2)\n",
    "            a.append(total_acc)\n",
    "            if len(a) >= 20:\n",
    "                d20 = sum(a[len(a)-20:])/20\n",
    "                ma20.append(d20)\n",
    "#             if len(a) >= 50:\n",
    "#                 ma50.append(sum(a[len(a)-50:])/50)\n",
    "#             if len(a) >= 100:\n",
    "#                 ma100.append(sum(a[len(a)-100:])/100)\n",
    "            \n",
    "            if len(a) >= 250:\n",
    "                d250 = sum(a[len(a)-250:])/250\n",
    "                ma250.append(d250)\n",
    "                d2f250 = abs(d250-d20)\n",
    "                diffma.append(d2f250)\n",
    "                avgA.append(sum(diffma[len(diffma)-20:])/20)\n",
    "#                 print(sum(diffma[len(diffma)-20:])/20)\n",
    "                \n",
    "            if len(a) >= 300:\n",
    "                avgA300.append(sum(diffma[len(diffma)-300:])/300)\n",
    "#                 ma500.append(sum(a[len(a)-500:])/500)\n",
    "                \n",
    "            if count % 100 == 0:\n",
    "                matplot()\n",
    "            count+=1\n",
    "#         if line:  # If it isn't a blank line\n",
    "#             line = line.split(\"|\")\n",
    "# #             print(line)\n",
    "#             if len(line) < 3:\n",
    "#                 continue\n",
    "#             try:\n",
    "#                 x.append(int(line[0]))\n",
    "#                 y.append(int(line[1]))\n",
    "#                 z.append(int(line[2]))\n",
    "#                 matplot()\n",
    "        except Exception as e: \n",
    "            print(e)\n",
    "#             break\n",
    "\n",
    "    ser_micro.close()"
   ]
  },
  {
   "cell_type": "code",
   "execution_count": 7,
   "metadata": {},
   "outputs": [
    {
     "data": {
      "image/png": "[encoded data removed]",
      "text/plain": [
       "<Figure size 1440x1080 with 1 Axes>"
      ]
     },
     "metadata": {
      "needs_background": "light"
     },
     "output_type": "display_data"
    }
   ],
   "source": [
    "x = []\n",
    "y = []\n",
    "z = []\n",
    "a = []\n",
    "ma20 = [1000 for i in range(19)]\n",
    "# ma50 = [1000 for i in range(49)]\n",
    "# ma100 = [1000 for i in range(99)]\n",
    "ma250 = [1000 for i in range(249)]\n",
    "diffma = [0 for i in range(249)]\n",
    "avgA = [0 for i in range(249)]\n",
    "avgA300 = [0 for i in range(299)]\n",
    "# ma500 = [1000 for i in range(499)]\n",
    "main()"
   ]
  },
  {
   "cell_type": "code",
   "execution_count": 8,
   "metadata": {},
   "outputs": [],
   "source": [
    "# d = {\"a\" : avgA300}\n",
    "# df = pd.DataFrame(d)\n",
    "# df.to_csv(\"a300.csv\")"
   ]
  },
  {
   "cell_type": "code",
   "execution_count": 9,
   "metadata": {},
   "outputs": [],
   "source": [
    "# di = {\n",
    "#     \"x\" : x,\n",
    "#     \"y\" : y,\n",
    "#     \"z\" : z,\n",
    "#     \"acceleration\" : a,\n",
    "#     \"ma20\" : ma20,\n",
    "#     \"ma250\" : ma250\n",
    "# #     \"ma500\" : ma500\n",
    "# }\n",
    "\n",
    "# df = pd.DataFrame(di)"
   ]
  },
  {
   "cell_type": "code",
   "execution_count": 10,
   "metadata": {},
   "outputs": [],
   "source": [
    "# df.to_csv(\"stand-walk-log.csv\")"
   ]
  }
 ],
 "metadata": {
  "kernelspec": {
   "display_name": "Python 3",
   "language": "python",
   "name": "python3"
  },
  "language_info": {
   "codemirror_mode": {
    "name": "ipython",
    "version": 3
   },
   "file_extension": ".py",
   "mimetype": "text/x-python",
   "name": "python",
   "nbconvert_exporter": "python",
   "pygments_lexer": "ipython3",
   "version": "3.8.10"
  }
 },
 "nbformat": 4,
 "nbformat_minor": 2
}
